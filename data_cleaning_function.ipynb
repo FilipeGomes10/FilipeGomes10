{
 "cells": [
  {
   "cell_type": "code",
   "execution_count": 23,
   "id": "abb17238-1803-478d-af2d-2c4b52e7f55e",
   "metadata": {},
   "outputs": [],
   "source": [
    "def filtrate_data(file,pressure,path): \n",
    "    \n",
    "    #This function only works to treat data from the small unit operation\n",
    "    #In order for the function to work correctly, the data should be collected with the time intervals set to the time where the first experiment of the day started, and to the time where the last experiment of the day ended\n",
    "    #This function only works for operations with constant pressure\n",
    "    \n",
    "    \n",
    "    import pandas as pd\n",
    "    import datetime\n",
    "    import os\n",
    "    \n",
    "    #Treating the data considering specifically the format in which the data from the small filtration unit comes\n",
    "    df=pd.read_excel(file)\n",
    "    df.drop(0)\n",
    "    df = df.drop(df.columns[(df.iloc[1] == 'Status') | (df.iloc[1] == 'Limit')], axis = 1)\n",
    "    df = df.drop(df.columns[(df.iloc[0] == 'Status') | (df.iloc[0] == 'Limit')], axis = 1)\n",
    "    df = df.rename(columns={'Group 1': 'Date', 'Unnamed: 1': 'Time', 'Unnamed: 5': 'PIR01-p vor Mem.', 'Unnamed: 8': 'PIR02-p nach Mem.', 'Unnamed: 11': 'FIR01- Konz.', 'Unnamed: 14': 'FIR02-Filtr./Per', 'Unnamed: 17': 'TIR01 Membran'})\n",
    "    df=df.drop([0,1,2])\n",
    "    df = df.replace(',', '.', regex=True)\n",
    "    df['datetime'] = pd.to_datetime(df['Date'] + ' ' + df['Time'].astype(str), format='%d.%m.%Y %H:%M:%S')\n",
    "    df.set_index('datetime', inplace=True)\n",
    "    df[['PIR01-p vor Mem.', 'PIR02-p nach Mem.', 'FIR01- Konz.', 'FIR02-Filtr./Per', 'TIR01 Membran']] = df[['PIR01-p vor Mem.', 'PIR02-p nach Mem.', 'FIR01- Konz.', 'FIR02-Filtr./Per', 'TIR01 Membran']].apply(pd.to_numeric, errors='coerce')\n",
    "    df_60s = df.resample('60S').agg({'PIR01-p vor Mem.': 'mean', 'PIR02-p nach Mem.': 'mean', 'FIR01- Konz.' : 'mean', 'FIR02-Filtr./Per' : 'mean', 'TIR01 Membran' : 'mean'})\n",
    "    \n",
    "    min_press, max_press = pressure-pressure/4, pressure+pressure/4\n",
    "    df_list = []\n",
    "    temp_df = pd.DataFrame()\n",
    "    df_60s = df_60s.fillna(0)\n",
    "    \n",
    "    for index, row in df_60s.iterrows():\n",
    "        if index==df_60s.index[-1]:\n",
    "            if min_press <= row['PIR01-p vor Mem.'] <= max_press:\n",
    "                temp_df = pd.concat([temp_df, row.to_frame().T])\n",
    "                df_list.append(temp_df)\n",
    "        elif min_press <= row['PIR01-p vor Mem.'] <= max_press:\n",
    "            temp_df = pd.concat([temp_df, row.to_frame().T])\n",
    "        else:\n",
    "             temp_df = pd.concat([temp_df, row.to_frame().T])\n",
    "             if temp_df.shape[0] > 1:\n",
    "                df_list.append(temp_df)\n",
    "             temp_df = pd.DataFrame()\n",
    "            \n",
    "    date = str(df_60s.reset_index()['datetime'][0])\n",
    "    dat = date.split()\n",
    "    new_dir = 'Experiments '+dat[0]\n",
    "    new_path = os.path.join(path, new_dir)\n",
    "    os.mkdir(new_path)\n",
    "\n",
    "    for i in range(len(df_list)):\n",
    "        name=(str(df_list[i].reset_index()['index'][0]).split())[1].replace(':','-')\n",
    "        file_name = 'Experiment {}.xlsx'.format(name)\n",
    "        file_path = os.path.join(new_path, file_name)\n",
    "        df_list[i].to_excel(file_path)"
   ]
  },
  {
   "cell_type": "code",
   "execution_count": 25,
   "id": "57756cee-4cc3-4d45-a051-fa55e540686b",
   "metadata": {
    "collapsed": true,
    "jupyter": {
     "outputs_hidden": true
    },
    "tags": []
   },
   "outputs": [],
   "source": [
    "filtrate_data('0102.xlsx', 12.5, 'C:\\\\Users\\\\FilipeGomes(1180836)\\\\Desktop')"
   ]
  }
 ],
 "metadata": {
  "kernelspec": {
   "display_name": "Python 3 (ipykernel)",
   "language": "python",
   "name": "python3"
  },
  "language_info": {
   "codemirror_mode": {
    "name": "ipython",
    "version": 3
   },
   "file_extension": ".py",
   "mimetype": "text/x-python",
   "name": "python",
   "nbconvert_exporter": "python",
   "pygments_lexer": "ipython3",
   "version": "3.11.5"
  }
 },
 "nbformat": 4,
 "nbformat_minor": 5
}
